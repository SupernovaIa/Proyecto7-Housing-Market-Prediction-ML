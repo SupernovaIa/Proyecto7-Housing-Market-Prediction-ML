{
 "cells": [
  {
   "cell_type": "code",
   "execution_count": 28,
   "metadata": {},
   "outputs": [],
   "source": [
    "# Data processing  \n",
    "# -----------------------------------------------------------------------  \n",
    "import numpy as np\n",
    "import pandas as pd  \n",
    "\n",
    "# Other objectives  \n",
    "# -----------------------------------------------------------------------  \n",
    "import math  \n",
    "\n",
    "# Graphics  \n",
    "# -----------------------------------------------------------------------  \n",
    "import seaborn as sns  \n",
    "import matplotlib.pyplot as plt  \n",
    "\n",
    "# Path configuration for custom module imports  \n",
    "# -----------------------------------------------------------------------  \n",
    "import sys  \n",
    "sys.path.append('../')  # Adds the parent directory to the path for custom module imports  \n",
    "\n",
    "# Ignore warnings  \n",
    "# -----------------------------------------------------------------------  \n",
    "import warnings  \n",
    "warnings.filterwarnings(\"ignore\") \n",
    "\n",
    "\n",
    "# Custom functions\n",
    "# -----------------------------------------------------------------------\n",
    "from src.support_eda import plot_categoric_distribution, plot_correlation_matrix, plot_numeric_distribution, plot_relation_tv_numeric, plot_outliers  "
   ]
  },
  {
   "cell_type": "code",
   "execution_count": 76,
   "metadata": {},
   "outputs": [],
   "source": [
    "df = pd.read_csv('../data/raw/api_rent_madrid.csv', delimiter=';')"
   ]
  },
  {
   "cell_type": "code",
   "execution_count": 77,
   "metadata": {},
   "outputs": [
    {
     "data": {
      "text/html": [
       "<div>\n",
       "<style scoped>\n",
       "    .dataframe tbody tr th:only-of-type {\n",
       "        vertical-align: middle;\n",
       "    }\n",
       "\n",
       "    .dataframe tbody tr th {\n",
       "        vertical-align: top;\n",
       "    }\n",
       "\n",
       "    .dataframe thead th {\n",
       "        text-align: right;\n",
       "    }\n",
       "</style>\n",
       "<table border=\"1\" class=\"dataframe\">\n",
       "  <thead>\n",
       "    <tr style=\"text-align: right;\">\n",
       "      <th></th>\n",
       "      <th>propertyCode</th>\n",
       "      <th>numPhotos</th>\n",
       "      <th>price</th>\n",
       "      <th>propertyType</th>\n",
       "      <th>operation</th>\n",
       "      <th>size</th>\n",
       "      <th>exterior</th>\n",
       "      <th>rooms</th>\n",
       "      <th>bathrooms</th>\n",
       "      <th>address</th>\n",
       "      <th>...</th>\n",
       "      <th>superTopHighlight</th>\n",
       "      <th>topNewDevelopment</th>\n",
       "      <th>externalReference</th>\n",
       "      <th>floor</th>\n",
       "      <th>district</th>\n",
       "      <th>neighborhood</th>\n",
       "      <th>hasLift</th>\n",
       "      <th>parkingSpace</th>\n",
       "      <th>labels</th>\n",
       "      <th>newDevelopmentFinished</th>\n",
       "    </tr>\n",
       "  </thead>\n",
       "  <tbody>\n",
       "    <tr>\n",
       "      <th>0</th>\n",
       "      <td>98903350</td>\n",
       "      <td>33</td>\n",
       "      <td>550.0</td>\n",
       "      <td>chalet</td>\n",
       "      <td>rent</td>\n",
       "      <td>371.0</td>\n",
       "      <td>False</td>\n",
       "      <td>6</td>\n",
       "      <td>3</td>\n",
       "      <td>Numancia de la Sagra</td>\n",
       "      <td>...</td>\n",
       "      <td>False</td>\n",
       "      <td>False</td>\n",
       "      <td>NaN</td>\n",
       "      <td>NaN</td>\n",
       "      <td>NaN</td>\n",
       "      <td>NaN</td>\n",
       "      <td>NaN</td>\n",
       "      <td>NaN</td>\n",
       "      <td>NaN</td>\n",
       "      <td>NaN</td>\n",
       "    </tr>\n",
       "    <tr>\n",
       "      <th>1</th>\n",
       "      <td>91615378</td>\n",
       "      <td>12</td>\n",
       "      <td>750.0</td>\n",
       "      <td>flat</td>\n",
       "      <td>rent</td>\n",
       "      <td>60.0</td>\n",
       "      <td>True</td>\n",
       "      <td>1</td>\n",
       "      <td>1</td>\n",
       "      <td>Calle de Alejandro Villegas, 23</td>\n",
       "      <td>...</td>\n",
       "      <td>False</td>\n",
       "      <td>False</td>\n",
       "      <td>AV23</td>\n",
       "      <td>3</td>\n",
       "      <td>Hortaleza</td>\n",
       "      <td>Canillas</td>\n",
       "      <td>True</td>\n",
       "      <td>NaN</td>\n",
       "      <td>NaN</td>\n",
       "      <td>NaN</td>\n",
       "    </tr>\n",
       "    <tr>\n",
       "      <th>2</th>\n",
       "      <td>88363329</td>\n",
       "      <td>21</td>\n",
       "      <td>750.0</td>\n",
       "      <td>flat</td>\n",
       "      <td>rent</td>\n",
       "      <td>70.0</td>\n",
       "      <td>True</td>\n",
       "      <td>2</td>\n",
       "      <td>1</td>\n",
       "      <td>Gregorio izquierdo</td>\n",
       "      <td>...</td>\n",
       "      <td>False</td>\n",
       "      <td>False</td>\n",
       "      <td>NaN</td>\n",
       "      <td>bj</td>\n",
       "      <td>Centro Urbano</td>\n",
       "      <td>NaN</td>\n",
       "      <td>False</td>\n",
       "      <td>NaN</td>\n",
       "      <td>NaN</td>\n",
       "      <td>NaN</td>\n",
       "    </tr>\n",
       "    <tr>\n",
       "      <th>3</th>\n",
       "      <td>98621753</td>\n",
       "      <td>28</td>\n",
       "      <td>400.0</td>\n",
       "      <td>penthouse</td>\n",
       "      <td>rent</td>\n",
       "      <td>67.0</td>\n",
       "      <td>True</td>\n",
       "      <td>2</td>\n",
       "      <td>2</td>\n",
       "      <td>Calle Madrid</td>\n",
       "      <td>...</td>\n",
       "      <td>False</td>\n",
       "      <td>False</td>\n",
       "      <td>90004</td>\n",
       "      <td>2</td>\n",
       "      <td>NaN</td>\n",
       "      <td>NaN</td>\n",
       "      <td>False</td>\n",
       "      <td>NaN</td>\n",
       "      <td>NaN</td>\n",
       "      <td>NaN</td>\n",
       "    </tr>\n",
       "    <tr>\n",
       "      <th>4</th>\n",
       "      <td>98222714</td>\n",
       "      <td>22</td>\n",
       "      <td>450.0</td>\n",
       "      <td>flat</td>\n",
       "      <td>rent</td>\n",
       "      <td>89.0</td>\n",
       "      <td>False</td>\n",
       "      <td>2</td>\n",
       "      <td>1</td>\n",
       "      <td>Calle Arroyo</td>\n",
       "      <td>...</td>\n",
       "      <td>False</td>\n",
       "      <td>False</td>\n",
       "      <td>RP1882022101719</td>\n",
       "      <td>2</td>\n",
       "      <td>NaN</td>\n",
       "      <td>NaN</td>\n",
       "      <td>True</td>\n",
       "      <td>{'hasParkingSpace': True, 'isParkingSpaceInclu...</td>\n",
       "      <td>NaN</td>\n",
       "      <td>NaN</td>\n",
       "    </tr>\n",
       "  </tbody>\n",
       "</table>\n",
       "<p>5 rows × 38 columns</p>\n",
       "</div>"
      ],
      "text/plain": [
       "   propertyCode  numPhotos  price propertyType operation   size  exterior  \\\n",
       "0      98903350         33  550.0       chalet      rent  371.0     False   \n",
       "1      91615378         12  750.0         flat      rent   60.0      True   \n",
       "2      88363329         21  750.0         flat      rent   70.0      True   \n",
       "3      98621753         28  400.0    penthouse      rent   67.0      True   \n",
       "4      98222714         22  450.0         flat      rent   89.0     False   \n",
       "\n",
       "   rooms  bathrooms                          address  ... superTopHighlight  \\\n",
       "0      6          3             Numancia de la Sagra  ...             False   \n",
       "1      1          1  Calle de Alejandro Villegas, 23  ...             False   \n",
       "2      2          1               Gregorio izquierdo  ...             False   \n",
       "3      2          2                     Calle Madrid  ...             False   \n",
       "4      2          1                     Calle Arroyo  ...             False   \n",
       "\n",
       "  topNewDevelopment externalReference floor       district  neighborhood  \\\n",
       "0             False               NaN   NaN            NaN           NaN   \n",
       "1             False              AV23     3      Hortaleza      Canillas   \n",
       "2             False               NaN    bj  Centro Urbano           NaN   \n",
       "3             False             90004     2            NaN           NaN   \n",
       "4             False   RP1882022101719     2            NaN           NaN   \n",
       "\n",
       "   hasLift                                       parkingSpace labels  \\\n",
       "0      NaN                                                NaN    NaN   \n",
       "1     True                                                NaN    NaN   \n",
       "2    False                                                NaN    NaN   \n",
       "3    False                                                NaN    NaN   \n",
       "4     True  {'hasParkingSpace': True, 'isParkingSpaceInclu...    NaN   \n",
       "\n",
       "  newDevelopmentFinished  \n",
       "0                    NaN  \n",
       "1                    NaN  \n",
       "2                    NaN  \n",
       "3                    NaN  \n",
       "4                    NaN  \n",
       "\n",
       "[5 rows x 38 columns]"
      ]
     },
     "execution_count": 77,
     "metadata": {},
     "output_type": "execute_result"
    }
   ],
   "source": [
    "df.head()"
   ]
  },
  {
   "cell_type": "code",
   "execution_count": 78,
   "metadata": {},
   "outputs": [
    {
     "data": {
      "text/plain": [
       "8"
      ]
     },
     "execution_count": 78,
     "metadata": {},
     "output_type": "execute_result"
    }
   ],
   "source": [
    "df.duplicated().sum()"
   ]
  },
  {
   "cell_type": "code",
   "execution_count": 79,
   "metadata": {},
   "outputs": [],
   "source": [
    "df.drop_duplicates(inplace=True)"
   ]
  },
  {
   "cell_type": "markdown",
   "metadata": {},
   "source": [
    "### Main Columns\n",
    "\n",
    "- **`propertyCode`**: Unique code identifying each property.\n",
    "\n",
    "- **`price`**: Property price in euros (target variable).\n",
    "\n",
    "- **`propertyType`**: Type of property (e.g., apartment, penthouse, chalet, etc.).\n",
    "\n",
    "- **`size`**: Size of the property in square meters.\n",
    "\n",
    "- **`rooms`**: Number of rooms.\n",
    "\n",
    "- **`bathrooms`**: Number of bathrooms.\n",
    "\n",
    "- **`district`**: District where the property is located (e.g., Centro, Hortaleza).\n",
    "\n",
    "- **`neighborhood`**: Neighborhood within the district (less complete data compared to `district`).\n",
    "\n",
    "- **`latitude`** and **`longitude`**: Geographic coordinates of the property.\n",
    "\n",
    "- **`address`**: Approximate or descriptive address of the property.\n",
    "\n",
    "### Additional Attributes\n",
    "\n",
    "- **`numPhotos`**: Number of photos available for the property.\n",
    "\n",
    "- **`exterior`**: Boolean indicator showing if the property is exterior-facing (`True` or `False`).\n",
    "\n",
    "- **`hasLift`**: Indicates if the property has an elevator (`True` or `False`, with some null values).\n",
    "\n",
    "- **`parkingSpace`**: Information about parking space (detailed in JSON format in some rows).\n",
    "\n",
    "- **`priceByArea`**: Price per square meter in euros.\n",
    "\n",
    "- **`floor`**: Floor where the property is located (e.g., ground floor, 1st floor, penthouse).\n",
    "\n",
    "- **`description`**: Textual description of the property.\n",
    "\n",
    "### Listing Features Columns\n",
    "\n",
    "- **`hasVideo`**: Indicates if the listing includes a video (`True` or `False`).\n",
    "\n",
    "- **`has3DTour`**: Indicates if the listing has a 3D tour available.\n",
    "\n",
    "- **`newDevelopment`**: Boolean indicating if the property is a new development.\n",
    "\n",
    "- **`superTopHighlight`** and **`topNewDevelopment`**: Boolean indicators of the prominence or highlight status of the listing on the platform.\n",
    "\n",
    "### Less Complete Features\n",
    "\n",
    "- **`neighborhood`** and **`district`**: Although important, these contain null values and may require cleaning.\n",
    "\n",
    "- **`parkingSpace`** and **`labels`**: Information limited to a few properties.\n",
    "\n",
    "- **`newDevelopmentFinished`**: Only available for specific properties, with low representation."
   ]
  },
  {
   "cell_type": "code",
   "execution_count": 210,
   "metadata": {},
   "outputs": [],
   "source": [
    "def value_counts(df, col):\n",
    "\n",
    "    return pd.concat([df[col].value_counts(), df[col].value_counts(normalize=True).round(2)], axis=1)"
   ]
  },
  {
   "cell_type": "code",
   "execution_count": 69,
   "metadata": {},
   "outputs": [],
   "source": [
    "def quick_plot_numeric(df, col, num=10, size=(10,5), rotation=45):\n",
    "\n",
    "    max_ = df[col].max()\n",
    "    min_ = df[col].min()\n",
    "    n = (max_ - min_) // num\n",
    "\n",
    "    if n < 2:\n",
    "        return\n",
    "    \n",
    "    plot_numeric_distribution(df, min_, max_, col, n, size=size, rotation=rotation)"
   ]
  },
  {
   "cell_type": "code",
   "execution_count": 80,
   "metadata": {},
   "outputs": [
    {
     "data": {
      "text/html": [
       "<div>\n",
       "<style scoped>\n",
       "    .dataframe tbody tr th:only-of-type {\n",
       "        vertical-align: middle;\n",
       "    }\n",
       "\n",
       "    .dataframe tbody tr th {\n",
       "        vertical-align: top;\n",
       "    }\n",
       "\n",
       "    .dataframe thead th {\n",
       "        text-align: right;\n",
       "    }\n",
       "</style>\n",
       "<table border=\"1\" class=\"dataframe\">\n",
       "  <thead>\n",
       "    <tr style=\"text-align: right;\">\n",
       "      <th></th>\n",
       "      <th>count</th>\n",
       "      <th>mean</th>\n",
       "      <th>std</th>\n",
       "      <th>min</th>\n",
       "      <th>25%</th>\n",
       "      <th>50%</th>\n",
       "      <th>75%</th>\n",
       "      <th>max</th>\n",
       "    </tr>\n",
       "  </thead>\n",
       "  <tbody>\n",
       "    <tr>\n",
       "      <th>propertyCode</th>\n",
       "      <td>442.0</td>\n",
       "      <td>94573262.11</td>\n",
       "      <td>13974749.91</td>\n",
       "      <td>666696.0</td>\n",
       "      <td>97550391.50</td>\n",
       "      <td>98662647.0</td>\n",
       "      <td>98894324.25</td>\n",
       "      <td>98939685.0</td>\n",
       "    </tr>\n",
       "    <tr>\n",
       "      <th>numPhotos</th>\n",
       "      <td>442.0</td>\n",
       "      <td>21.85</td>\n",
       "      <td>9.66</td>\n",
       "      <td>0.0</td>\n",
       "      <td>15.00</td>\n",
       "      <td>21.0</td>\n",
       "      <td>28.00</td>\n",
       "      <td>72.0</td>\n",
       "    </tr>\n",
       "    <tr>\n",
       "      <th>price</th>\n",
       "      <td>442.0</td>\n",
       "      <td>672.96</td>\n",
       "      <td>83.96</td>\n",
       "      <td>340.0</td>\n",
       "      <td>645.00</td>\n",
       "      <td>700.0</td>\n",
       "      <td>740.00</td>\n",
       "      <td>750.0</td>\n",
       "    </tr>\n",
       "    <tr>\n",
       "      <th>size</th>\n",
       "      <td>442.0</td>\n",
       "      <td>67.96</td>\n",
       "      <td>35.87</td>\n",
       "      <td>20.0</td>\n",
       "      <td>46.25</td>\n",
       "      <td>62.0</td>\n",
       "      <td>80.00</td>\n",
       "      <td>371.0</td>\n",
       "    </tr>\n",
       "    <tr>\n",
       "      <th>rooms</th>\n",
       "      <td>442.0</td>\n",
       "      <td>1.70</td>\n",
       "      <td>0.98</td>\n",
       "      <td>0.0</td>\n",
       "      <td>1.00</td>\n",
       "      <td>2.0</td>\n",
       "      <td>2.00</td>\n",
       "      <td>6.0</td>\n",
       "    </tr>\n",
       "    <tr>\n",
       "      <th>bathrooms</th>\n",
       "      <td>442.0</td>\n",
       "      <td>1.21</td>\n",
       "      <td>0.44</td>\n",
       "      <td>1.0</td>\n",
       "      <td>1.00</td>\n",
       "      <td>1.0</td>\n",
       "      <td>1.00</td>\n",
       "      <td>3.0</td>\n",
       "    </tr>\n",
       "    <tr>\n",
       "      <th>distance</th>\n",
       "      <td>442.0</td>\n",
       "      <td>22266.39</td>\n",
       "      <td>16991.27</td>\n",
       "      <td>183.0</td>\n",
       "      <td>7089.00</td>\n",
       "      <td>20001.0</td>\n",
       "      <td>34854.75</td>\n",
       "      <td>59919.0</td>\n",
       "    </tr>\n",
       "    <tr>\n",
       "      <th>priceByArea</th>\n",
       "      <td>424.0</td>\n",
       "      <td>11.95</td>\n",
       "      <td>5.37</td>\n",
       "      <td>1.0</td>\n",
       "      <td>8.00</td>\n",
       "      <td>11.0</td>\n",
       "      <td>15.00</td>\n",
       "      <td>33.0</td>\n",
       "    </tr>\n",
       "  </tbody>\n",
       "</table>\n",
       "</div>"
      ],
      "text/plain": [
       "              count         mean          std       min          25%  \\\n",
       "propertyCode  442.0  94573262.11  13974749.91  666696.0  97550391.50   \n",
       "numPhotos     442.0        21.85         9.66       0.0        15.00   \n",
       "price         442.0       672.96        83.96     340.0       645.00   \n",
       "size          442.0        67.96        35.87      20.0        46.25   \n",
       "rooms         442.0         1.70         0.98       0.0         1.00   \n",
       "bathrooms     442.0         1.21         0.44       1.0         1.00   \n",
       "distance      442.0     22266.39     16991.27     183.0      7089.00   \n",
       "priceByArea   424.0        11.95         5.37       1.0         8.00   \n",
       "\n",
       "                     50%          75%         max  \n",
       "propertyCode  98662647.0  98894324.25  98939685.0  \n",
       "numPhotos           21.0        28.00        72.0  \n",
       "price              700.0       740.00       750.0  \n",
       "size                62.0        80.00       371.0  \n",
       "rooms                2.0         2.00         6.0  \n",
       "bathrooms            1.0         1.00         3.0  \n",
       "distance         20001.0     34854.75     59919.0  \n",
       "priceByArea         11.0        15.00        33.0  "
      ]
     },
     "execution_count": 80,
     "metadata": {},
     "output_type": "execute_result"
    }
   ],
   "source": [
    "df.describe().T.round(2)"
   ]
  },
  {
   "cell_type": "code",
   "execution_count": 81,
   "metadata": {},
   "outputs": [
    {
     "data": {
      "text/plain": [
       "price\n",
       "False    442\n",
       "Name: count, dtype: int64"
      ]
     },
     "execution_count": 81,
     "metadata": {},
     "output_type": "execute_result"
    }
   ],
   "source": [
    "df['price'].isna().value_counts()"
   ]
  },
  {
   "cell_type": "markdown",
   "metadata": {},
   "source": [
    "No hay nigún valor nulo en la variable objetivo, por lo que todo guay"
   ]
  },
  {
   "cell_type": "code",
   "execution_count": 106,
   "metadata": {},
   "outputs": [
    {
     "name": "stdout",
     "output_type": "stream",
     "text": [
      "<class 'pandas.core.frame.DataFrame'>\n",
      "Index: 442 entries, 0 to 449\n",
      "Data columns (total 38 columns):\n",
      " #   Column                  Non-Null Count  Dtype  \n",
      "---  ------                  --------------  -----  \n",
      " 0   propertyCode            442 non-null    int64  \n",
      " 1   numPhotos               442 non-null    int64  \n",
      " 2   price                   442 non-null    float64\n",
      " 3   propertyType            442 non-null    object \n",
      " 4   operation               442 non-null    object \n",
      " 5   size                    442 non-null    float64\n",
      " 6   exterior                442 non-null    bool   \n",
      " 7   rooms                   442 non-null    int64  \n",
      " 8   bathrooms               442 non-null    int64  \n",
      " 9   address                 442 non-null    object \n",
      " 10  province                442 non-null    object \n",
      " 11  municipality            442 non-null    object \n",
      " 12  country                 442 non-null    object \n",
      " 13  latitude                442 non-null    object \n",
      " 14  longitude               442 non-null    object \n",
      " 15  showAddress             442 non-null    bool   \n",
      " 16  distance                442 non-null    int64  \n",
      " 17  description             441 non-null    object \n",
      " 18  hasVideo                424 non-null    object \n",
      " 19  status                  424 non-null    object \n",
      " 20  newDevelopment          424 non-null    object \n",
      " 21  priceByArea             424 non-null    float64\n",
      " 22  detailedType            424 non-null    object \n",
      " 23  suggestedTexts          424 non-null    object \n",
      " 24  hasPlan                 424 non-null    object \n",
      " 25  has3DTour               424 non-null    object \n",
      " 26  has360                  424 non-null    object \n",
      " 27  hasStaging              424 non-null    object \n",
      " 28  superTopHighlight       424 non-null    object \n",
      " 29  topNewDevelopment       424 non-null    object \n",
      " 30  externalReference       338 non-null    object \n",
      " 31  floor                   361 non-null    object \n",
      " 32  district                333 non-null    object \n",
      " 33  neighborhood            174 non-null    object \n",
      " 34  hasLift                 411 non-null    object \n",
      " 35  parkingSpace            134 non-null    object \n",
      " 36  labels                  30 non-null     object \n",
      " 37  newDevelopmentFinished  13 non-null     object \n",
      "dtypes: bool(2), float64(3), int64(5), object(28)\n",
      "memory usage: 128.6+ KB\n"
     ]
    }
   ],
   "source": [
    "df.info()"
   ]
  },
  {
   "cell_type": "markdown",
   "metadata": {},
   "source": [
    "## Main columns"
   ]
  },
  {
   "cell_type": "markdown",
   "metadata": {},
   "source": [
    "### **`propertyCode`**\n",
    "\n",
    "Unique code identifying each property."
   ]
  },
  {
   "cell_type": "code",
   "execution_count": 89,
   "metadata": {},
   "outputs": [
    {
     "name": "stdout",
     "output_type": "stream",
     "text": [
      "There are a total of 442 different property codes out of 442 entries\n"
     ]
    }
   ],
   "source": [
    "print(f\"There are a total of {df['propertyCode'].unique().shape[0]} different property codes out of {df.shape[0]} entries\")"
   ]
  },
  {
   "cell_type": "code",
   "execution_count": 206,
   "metadata": {},
   "outputs": [
    {
     "name": "stdout",
     "output_type": "stream",
     "text": [
      "Number of missing values: 0\n",
      "Number of different entries: 442\n"
     ]
    }
   ],
   "source": [
    "print(f\"Number of missing values: {df['propertyCode'].isna().sum()}\\nNumber of different entries: {df['propertyCode'].nunique()}\")"
   ]
  },
  {
   "cell_type": "markdown",
   "metadata": {},
   "source": [
    "`propertyCode` es un buen identificador para cada vivienda ya que no tiene repetidos. El eliminado de duplicados ha funcionado adecuadamente."
   ]
  },
  {
   "cell_type": "code",
   "execution_count": 87,
   "metadata": {},
   "outputs": [
    {
     "data": {
      "text/plain": [
       "442"
      ]
     },
     "execution_count": 87,
     "metadata": {},
     "output_type": "execute_result"
    }
   ],
   "source": [
    "df['propertyCode'].unique().shape[0]"
   ]
  },
  {
   "cell_type": "markdown",
   "metadata": {},
   "source": [
    "### **`price`**\n",
    "\n",
    "Property price in euros (target variable)."
   ]
  },
  {
   "cell_type": "code",
   "execution_count": 101,
   "metadata": {},
   "outputs": [
    {
     "data": {
      "text/plain": [
       "count    442.00\n",
       "mean     672.96\n",
       "std       83.96\n",
       "min      340.00\n",
       "25%      645.00\n",
       "50%      700.00\n",
       "75%      740.00\n",
       "max      750.00\n",
       "Name: price, dtype: float64"
      ]
     },
     "execution_count": 101,
     "metadata": {},
     "output_type": "execute_result"
    }
   ],
   "source": [
    "df['price'].describe().round(2)"
   ]
  },
  {
   "cell_type": "markdown",
   "metadata": {},
   "source": [
    "El precio más alto es de 750 euros con una media de ~673 euros y mediana de 700. Es decir, la mayoría de los datos se encuentran en este rango de 700-750 euros. \n",
    "\n",
    "La desviación típica es de ~84 euros. Lo que indica que existe cierta dispersión en los datos, principalmente dada por los valores má bajos ya que el mínimo llega hasta 340."
   ]
  },
  {
   "cell_type": "code",
   "execution_count": 98,
   "metadata": {},
   "outputs": [
    {
     "data": {
      "image/png": "[encoded data removed]",
      "text/plain": [
       "<Figure size 1000x400 with 1 Axes>"
      ]
     },
     "metadata": {},
     "output_type": "display_data"
    }
   ],
   "source": [
    "min_ = df['price'].min()\n",
    "max_ = df['price'].max()\n",
    "\n",
    "plot_numeric_distribution(df, min_, max_, 'price', n = 41, size=(10,4), rotation=0)"
   ]
  },
  {
   "cell_type": "markdown",
   "metadata": {},
   "source": [
    "Vemos por tanto que los precios están agrupados principalmente hacia los valores más altos con una cola hacia la izquierda relativamente prolongada. Este límite superior en el precio sugiere la aplicación de algún tipo de filtro de selección previo o, menos probablemente, la aplicación de alguna política de límites abusivos contra el mercado especulativo de la vivienda."
   ]
  },
  {
   "cell_type": "markdown",
   "metadata": {},
   "source": [
    "### **`propertyType`**\n",
    "\n",
    "Type of property (e.g., apartment, penthouse, chalet, etc.)."
   ]
  },
  {
   "cell_type": "code",
   "execution_count": 207,
   "metadata": {},
   "outputs": [
    {
     "name": "stdout",
     "output_type": "stream",
     "text": [
      "Number of missing values: 0\n",
      "Number of different entries: 6\n"
     ]
    }
   ],
   "source": [
    "print(f\"Number of missing values: {df['propertyType'].isna().sum()}\\nNumber of different entries: {df['propertyType'].nunique()}\")"
   ]
  },
  {
   "cell_type": "code",
   "execution_count": 211,
   "metadata": {},
   "outputs": [
    {
     "data": {
      "text/html": [
       "<div>\n",
       "<style scoped>\n",
       "    .dataframe tbody tr th:only-of-type {\n",
       "        vertical-align: middle;\n",
       "    }\n",
       "\n",
       "    .dataframe tbody tr th {\n",
       "        vertical-align: top;\n",
       "    }\n",
       "\n",
       "    .dataframe thead th {\n",
       "        text-align: right;\n",
       "    }\n",
       "</style>\n",
       "<table border=\"1\" class=\"dataframe\">\n",
       "  <thead>\n",
       "    <tr style=\"text-align: right;\">\n",
       "      <th></th>\n",
       "      <th>count</th>\n",
       "      <th>proportion</th>\n",
       "    </tr>\n",
       "    <tr>\n",
       "      <th>propertyType</th>\n",
       "      <th></th>\n",
       "      <th></th>\n",
       "    </tr>\n",
       "  </thead>\n",
       "  <tbody>\n",
       "    <tr>\n",
       "      <th>flat</th>\n",
       "      <td>348</td>\n",
       "      <td>0.79</td>\n",
       "    </tr>\n",
       "    <tr>\n",
       "      <th>studio</th>\n",
       "      <td>48</td>\n",
       "      <td>0.11</td>\n",
       "    </tr>\n",
       "    <tr>\n",
       "      <th>duplex</th>\n",
       "      <td>19</td>\n",
       "      <td>0.04</td>\n",
       "    </tr>\n",
       "    <tr>\n",
       "      <th>penthouse</th>\n",
       "      <td>16</td>\n",
       "      <td>0.04</td>\n",
       "    </tr>\n",
       "    <tr>\n",
       "      <th>chalet</th>\n",
       "      <td>9</td>\n",
       "      <td>0.02</td>\n",
       "    </tr>\n",
       "    <tr>\n",
       "      <th>countryHouse</th>\n",
       "      <td>2</td>\n",
       "      <td>0.00</td>\n",
       "    </tr>\n",
       "  </tbody>\n",
       "</table>\n",
       "</div>"
      ],
      "text/plain": [
       "              count  proportion\n",
       "propertyType                   \n",
       "flat            348        0.79\n",
       "studio           48        0.11\n",
       "duplex           19        0.04\n",
       "penthouse        16        0.04\n",
       "chalet            9        0.02\n",
       "countryHouse      2        0.00"
      ]
     },
     "execution_count": 211,
     "metadata": {},
     "output_type": "execute_result"
    }
   ],
   "source": [
    "value_counts(df, 'propertyType')"
   ]
  },
  {
   "cell_type": "code",
   "execution_count": 107,
   "metadata": {},
   "outputs": [
    {
     "data": {
      "image/png": "[encoded data removed]",
      "text/plain": [
       "<Figure size 800x400 with 1 Axes>"
      ]
     },
     "metadata": {},
     "output_type": "display_data"
    }
   ],
   "source": [
    "plot_categoric_distribution(df, 'propertyType', rotation=0)"
   ]
  },
  {
   "cell_type": "markdown",
   "metadata": {},
   "source": [
    "La mayoría de propiedades son `flat`, lo cual tiene sentido al tratarse de una gran ciudad como Madrid. La siguiente categoría son `studio` que se tratan de propiedades que no tienen habitaciones y constan de una estancia única.\n",
    "\n",
    "El resto de tipos de propiedades son muy poco frecuentes pero pueden ser representativas para el análisis."
   ]
  },
  {
   "cell_type": "markdown",
   "metadata": {},
   "source": [
    "¿Son los `studio` equivalentes a cero habitaciones?\n",
    "\n",
    "Aparentemente sí, pero vamos a verlo."
   ]
  },
  {
   "cell_type": "code",
   "execution_count": 128,
   "metadata": {},
   "outputs": [
    {
     "data": {
      "text/html": [
       "<div>\n",
       "<style scoped>\n",
       "    .dataframe tbody tr th:only-of-type {\n",
       "        vertical-align: middle;\n",
       "    }\n",
       "\n",
       "    .dataframe tbody tr th {\n",
       "        vertical-align: top;\n",
       "    }\n",
       "\n",
       "    .dataframe thead th {\n",
       "        text-align: right;\n",
       "    }\n",
       "</style>\n",
       "<table border=\"1\" class=\"dataframe\">\n",
       "  <thead>\n",
       "    <tr style=\"text-align: right;\">\n",
       "      <th></th>\n",
       "      <th>propertyCode</th>\n",
       "      <th>numPhotos</th>\n",
       "      <th>price</th>\n",
       "      <th>propertyType</th>\n",
       "      <th>operation</th>\n",
       "      <th>size</th>\n",
       "      <th>exterior</th>\n",
       "      <th>rooms</th>\n",
       "      <th>bathrooms</th>\n",
       "      <th>address</th>\n",
       "      <th>...</th>\n",
       "      <th>superTopHighlight</th>\n",
       "      <th>topNewDevelopment</th>\n",
       "      <th>externalReference</th>\n",
       "      <th>floor</th>\n",
       "      <th>district</th>\n",
       "      <th>neighborhood</th>\n",
       "      <th>hasLift</th>\n",
       "      <th>parkingSpace</th>\n",
       "      <th>labels</th>\n",
       "      <th>newDevelopmentFinished</th>\n",
       "    </tr>\n",
       "  </thead>\n",
       "  <tbody>\n",
       "    <tr>\n",
       "      <th>241</th>\n",
       "      <td>88875520</td>\n",
       "      <td>15</td>\n",
       "      <td>750.0</td>\n",
       "      <td>penthouse</td>\n",
       "      <td>rent</td>\n",
       "      <td>80.0</td>\n",
       "      <td>True</td>\n",
       "      <td>0</td>\n",
       "      <td>1</td>\n",
       "      <td>Zona Industrial</td>\n",
       "      <td>...</td>\n",
       "      <td>False</td>\n",
       "      <td>False</td>\n",
       "      <td>3248-16907</td>\n",
       "      <td>1</td>\n",
       "      <td>Zona Industrial</td>\n",
       "      <td>NaN</td>\n",
       "      <td>True</td>\n",
       "      <td>{'hasParkingSpace': True, 'isParkingSpaceInclu...</td>\n",
       "      <td>NaN</td>\n",
       "      <td>NaN</td>\n",
       "    </tr>\n",
       "  </tbody>\n",
       "</table>\n",
       "<p>1 rows × 38 columns</p>\n",
       "</div>"
      ],
      "text/plain": [
       "     propertyCode  numPhotos  price propertyType operation  size  exterior  \\\n",
       "241      88875520         15  750.0    penthouse      rent  80.0      True   \n",
       "\n",
       "     rooms  bathrooms          address  ... superTopHighlight  \\\n",
       "241      0          1  Zona Industrial  ...             False   \n",
       "\n",
       "    topNewDevelopment externalReference floor         district  neighborhood  \\\n",
       "241             False        3248-16907     1  Zona Industrial           NaN   \n",
       "\n",
       "     hasLift                                       parkingSpace labels  \\\n",
       "241     True  {'hasParkingSpace': True, 'isParkingSpaceInclu...    NaN   \n",
       "\n",
       "    newDevelopmentFinished  \n",
       "241                    NaN  \n",
       "\n",
       "[1 rows x 38 columns]"
      ]
     },
     "execution_count": 128,
     "metadata": {},
     "output_type": "execute_result"
    }
   ],
   "source": [
    "df[(df['propertyType'] != 'studio') & (df['rooms'] == 0)]"
   ]
  },
  {
   "cell_type": "code",
   "execution_count": 129,
   "metadata": {},
   "outputs": [
    {
     "data": {
      "text/html": [
       "<div>\n",
       "<style scoped>\n",
       "    .dataframe tbody tr th:only-of-type {\n",
       "        vertical-align: middle;\n",
       "    }\n",
       "\n",
       "    .dataframe tbody tr th {\n",
       "        vertical-align: top;\n",
       "    }\n",
       "\n",
       "    .dataframe thead th {\n",
       "        text-align: right;\n",
       "    }\n",
       "</style>\n",
       "<table border=\"1\" class=\"dataframe\">\n",
       "  <thead>\n",
       "    <tr style=\"text-align: right;\">\n",
       "      <th></th>\n",
       "      <th>propertyCode</th>\n",
       "      <th>numPhotos</th>\n",
       "      <th>price</th>\n",
       "      <th>propertyType</th>\n",
       "      <th>operation</th>\n",
       "      <th>size</th>\n",
       "      <th>exterior</th>\n",
       "      <th>rooms</th>\n",
       "      <th>bathrooms</th>\n",
       "      <th>address</th>\n",
       "      <th>...</th>\n",
       "      <th>superTopHighlight</th>\n",
       "      <th>topNewDevelopment</th>\n",
       "      <th>externalReference</th>\n",
       "      <th>floor</th>\n",
       "      <th>district</th>\n",
       "      <th>neighborhood</th>\n",
       "      <th>hasLift</th>\n",
       "      <th>parkingSpace</th>\n",
       "      <th>labels</th>\n",
       "      <th>newDevelopmentFinished</th>\n",
       "    </tr>\n",
       "  </thead>\n",
       "  <tbody>\n",
       "  </tbody>\n",
       "</table>\n",
       "<p>0 rows × 38 columns</p>\n",
       "</div>"
      ],
      "text/plain": [
       "Empty DataFrame\n",
       "Columns: [propertyCode, numPhotos, price, propertyType, operation, size, exterior, rooms, bathrooms, address, province, municipality, country, latitude, longitude, showAddress, distance, description, hasVideo, status, newDevelopment, priceByArea, detailedType, suggestedTexts, hasPlan, has3DTour, has360, hasStaging, superTopHighlight, topNewDevelopment, externalReference, floor, district, neighborhood, hasLift, parkingSpace, labels, newDevelopmentFinished]\n",
       "Index: []\n",
       "\n",
       "[0 rows x 38 columns]"
      ]
     },
     "execution_count": 129,
     "metadata": {},
     "output_type": "execute_result"
    }
   ],
   "source": [
    "df[(df['propertyType'] == 'studio') & (df['rooms'] != 0)]"
   ]
  },
  {
   "cell_type": "markdown",
   "metadata": {},
   "source": [
    "No hay ningún `studio` que no tenga 0 habitaciones, lo que es coherente con la definición de `studio`. Sin embargo, sí hay una vivienda que tiene 0 habitaciones y no es `studio` sino `penthouse`. Esto sí es posible ya que un `penthouse` puede tener 0 habitaciones pero al establecer la categoría no se han podido seleccionar ambas de forma simultánea."
   ]
  },
  {
   "cell_type": "markdown",
   "metadata": {},
   "source": [
    "### **`size`**\n",
    "\n",
    "Size of the property in square meters."
   ]
  },
  {
   "cell_type": "code",
   "execution_count": 143,
   "metadata": {},
   "outputs": [
    {
     "data": {
      "image/png": "[encoded data removed]",
      "text/plain": [
       "<Figure size 1000x400 with 1 Axes>"
      ]
     },
     "metadata": {},
     "output_type": "display_data"
    }
   ],
   "source": [
    "min_ = df['size'].min()\n",
    "max_ = df['size'].max()\n",
    "\n",
    "plot_numeric_distribution(df, min_, max_, 'size', n = 10, size=(10,4))"
   ]
  },
  {
   "cell_type": "markdown",
   "metadata": {},
   "source": [
    "La mayoría de viviendas tienen un tamaño relativamente pequeño, entre 20 y 100 con una distribución aparentemente normal pero con una larga cola a la derecha que posiblemente representen casas más espaciosas a las afueras de la ciudad."
   ]
  },
  {
   "cell_type": "markdown",
   "metadata": {},
   "source": [
    "### **`rooms`**\n",
    "\n",
    "Number of rooms."
   ]
  },
  {
   "cell_type": "code",
   "execution_count": 208,
   "metadata": {},
   "outputs": [
    {
     "name": "stdout",
     "output_type": "stream",
     "text": [
      "Number of missing values: 0\n",
      "Number of different entries: 6\n"
     ]
    }
   ],
   "source": [
    "print(f\"Number of missing values: {df['rooms'].isna().sum()}\\nNumber of different entries: {df['rooms'].nunique()}\")"
   ]
  },
  {
   "cell_type": "code",
   "execution_count": 212,
   "metadata": {},
   "outputs": [
    {
     "data": {
      "text/html": [
       "<div>\n",
       "<style scoped>\n",
       "    .dataframe tbody tr th:only-of-type {\n",
       "        vertical-align: middle;\n",
       "    }\n",
       "\n",
       "    .dataframe tbody tr th {\n",
       "        vertical-align: top;\n",
       "    }\n",
       "\n",
       "    .dataframe thead th {\n",
       "        text-align: right;\n",
       "    }\n",
       "</style>\n",
       "<table border=\"1\" class=\"dataframe\">\n",
       "  <thead>\n",
       "    <tr style=\"text-align: right;\">\n",
       "      <th></th>\n",
       "      <th>count</th>\n",
       "      <th>proportion</th>\n",
       "    </tr>\n",
       "    <tr>\n",
       "      <th>rooms</th>\n",
       "      <th></th>\n",
       "      <th></th>\n",
       "    </tr>\n",
       "  </thead>\n",
       "  <tbody>\n",
       "    <tr>\n",
       "      <th>2</th>\n",
       "      <td>171</td>\n",
       "      <td>0.39</td>\n",
       "    </tr>\n",
       "    <tr>\n",
       "      <th>1</th>\n",
       "      <td>135</td>\n",
       "      <td>0.31</td>\n",
       "    </tr>\n",
       "    <tr>\n",
       "      <th>3</th>\n",
       "      <td>77</td>\n",
       "      <td>0.17</td>\n",
       "    </tr>\n",
       "    <tr>\n",
       "      <th>0</th>\n",
       "      <td>49</td>\n",
       "      <td>0.11</td>\n",
       "    </tr>\n",
       "    <tr>\n",
       "      <th>4</th>\n",
       "      <td>9</td>\n",
       "      <td>0.02</td>\n",
       "    </tr>\n",
       "    <tr>\n",
       "      <th>6</th>\n",
       "      <td>1</td>\n",
       "      <td>0.00</td>\n",
       "    </tr>\n",
       "  </tbody>\n",
       "</table>\n",
       "</div>"
      ],
      "text/plain": [
       "       count  proportion\n",
       "rooms                   \n",
       "2        171        0.39\n",
       "1        135        0.31\n",
       "3         77        0.17\n",
       "0         49        0.11\n",
       "4          9        0.02\n",
       "6          1        0.00"
      ]
     },
     "execution_count": 212,
     "metadata": {},
     "output_type": "execute_result"
    }
   ],
   "source": [
    "value_counts(df, 'rooms')"
   ]
  },
  {
   "cell_type": "code",
   "execution_count": 146,
   "metadata": {},
   "outputs": [
    {
     "data": {
      "image/png": "[encoded data removed]",
      "text/plain": [
       "<Figure size 800x400 with 1 Axes>"
      ]
     },
     "metadata": {},
     "output_type": "display_data"
    }
   ],
   "source": [
    "plot_categoric_distribution(df, 'rooms', size = (8, 4), rotation=0)"
   ]
  },
  {
   "cell_type": "markdown",
   "metadata": {},
   "source": [
    "La gran mayoría de viviendas tienen entre 1 y 3 habitaciones, que es lo más habitual para viviendas para familias pequeñas, parejas o para una sola persona. Existen también algunas que no tienen habitaciones, como hemos comentado anteriormente."
   ]
  },
  {
   "cell_type": "markdown",
   "metadata": {},
   "source": [
    "### **`bathrooms`**\n",
    "\n",
    "Number of bathrooms."
   ]
  },
  {
   "cell_type": "code",
   "execution_count": 213,
   "metadata": {},
   "outputs": [
    {
     "name": "stdout",
     "output_type": "stream",
     "text": [
      "Number of missing values: 0\n",
      "Number of different entries: 3\n"
     ]
    }
   ],
   "source": [
    "print(f\"Number of missing values: {df['bathrooms'].isna().sum()}\\nNumber of different entries: {df['bathrooms'].nunique()}\")"
   ]
  },
  {
   "cell_type": "code",
   "execution_count": 174,
   "metadata": {},
   "outputs": [
    {
     "data": {
      "text/html": [
       "<div>\n",
       "<style scoped>\n",
       "    .dataframe tbody tr th:only-of-type {\n",
       "        vertical-align: middle;\n",
       "    }\n",
       "\n",
       "    .dataframe tbody tr th {\n",
       "        vertical-align: top;\n",
       "    }\n",
       "\n",
       "    .dataframe thead th {\n",
       "        text-align: right;\n",
       "    }\n",
       "</style>\n",
       "<table border=\"1\" class=\"dataframe\">\n",
       "  <thead>\n",
       "    <tr style=\"text-align: right;\">\n",
       "      <th></th>\n",
       "      <th>count</th>\n",
       "      <th>proportion</th>\n",
       "    </tr>\n",
       "    <tr>\n",
       "      <th>bathrooms</th>\n",
       "      <th></th>\n",
       "      <th></th>\n",
       "    </tr>\n",
       "  </thead>\n",
       "  <tbody>\n",
       "    <tr>\n",
       "      <th>1</th>\n",
       "      <td>357</td>\n",
       "      <td>0.81</td>\n",
       "    </tr>\n",
       "    <tr>\n",
       "      <th>2</th>\n",
       "      <td>79</td>\n",
       "      <td>0.18</td>\n",
       "    </tr>\n",
       "    <tr>\n",
       "      <th>3</th>\n",
       "      <td>6</td>\n",
       "      <td>0.01</td>\n",
       "    </tr>\n",
       "  </tbody>\n",
       "</table>\n",
       "</div>"
      ],
      "text/plain": [
       "           count  proportion\n",
       "bathrooms                   \n",
       "1            357        0.81\n",
       "2             79        0.18\n",
       "3              6        0.01"
      ]
     },
     "execution_count": 174,
     "metadata": {},
     "output_type": "execute_result"
    }
   ],
   "source": [
    "value_counts(df, 'bathrooms')"
   ]
  },
  {
   "cell_type": "code",
   "execution_count": 152,
   "metadata": {},
   "outputs": [
    {
     "data": {
      "image/png": "[encoded data removed]",
      "text/plain": [
       "<Figure size 600x300 with 1 Axes>"
      ]
     },
     "metadata": {},
     "output_type": "display_data"
    }
   ],
   "source": [
    "plot_categoric_distribution(df, 'bathrooms', size = (6, 3), rotation=0)"
   ]
  },
  {
   "cell_type": "markdown",
   "metadata": {},
   "source": [
    "Más del 80% de viviendas tiene un único baño, lo que refuerza la posibilidad de una segmentación de los datos en torno a parejas, familias con pocos miembros o unidades unipersonales."
   ]
  },
  {
   "cell_type": "markdown",
   "metadata": {},
   "source": [
    "### **`district`**\n",
    "\n",
    "District where the property is located (e.g., Centro, Hortaleza)."
   ]
  },
  {
   "cell_type": "code",
   "execution_count": 214,
   "metadata": {},
   "outputs": [
    {
     "name": "stdout",
     "output_type": "stream",
     "text": [
      "Number of missing values: 109\n",
      "Number of different entries: 96\n"
     ]
    }
   ],
   "source": [
    "print(f\"Number of missing values: {df['district'].isna().sum()}\\nNumber of different entries: {df['district'].nunique()}\")"
   ]
  },
  {
   "cell_type": "markdown",
   "metadata": {},
   "source": [
    "Since we have some missing values we can create an `unkonwn` category. For next steps we can geolocate the via coordinates"
   ]
  },
  {
   "cell_type": "code",
   "execution_count": 215,
   "metadata": {},
   "outputs": [],
   "source": [
    "df['district'].fillna('unkonwn', inplace=True)"
   ]
  },
  {
   "cell_type": "code",
   "execution_count": 216,
   "metadata": {},
   "outputs": [
    {
     "data": {
      "text/html": [
       "<div>\n",
       "<style scoped>\n",
       "    .dataframe tbody tr th:only-of-type {\n",
       "        vertical-align: middle;\n",
       "    }\n",
       "\n",
       "    .dataframe tbody tr th {\n",
       "        vertical-align: top;\n",
       "    }\n",
       "\n",
       "    .dataframe thead th {\n",
       "        text-align: right;\n",
       "    }\n",
       "</style>\n",
       "<table border=\"1\" class=\"dataframe\">\n",
       "  <thead>\n",
       "    <tr style=\"text-align: right;\">\n",
       "      <th></th>\n",
       "      <th>count</th>\n",
       "      <th>proportion</th>\n",
       "    </tr>\n",
       "    <tr>\n",
       "      <th>district</th>\n",
       "      <th></th>\n",
       "      <th></th>\n",
       "    </tr>\n",
       "  </thead>\n",
       "  <tbody>\n",
       "    <tr>\n",
       "      <th>unkonwn</th>\n",
       "      <td>109</td>\n",
       "      <td>0.25</td>\n",
       "    </tr>\n",
       "    <tr>\n",
       "      <th>Centro</th>\n",
       "      <td>48</td>\n",
       "      <td>0.11</td>\n",
       "    </tr>\n",
       "    <tr>\n",
       "      <th>Villaverde</th>\n",
       "      <td>23</td>\n",
       "      <td>0.05</td>\n",
       "    </tr>\n",
       "    <tr>\n",
       "      <th>Puente de Vallecas</th>\n",
       "      <td>17</td>\n",
       "      <td>0.04</td>\n",
       "    </tr>\n",
       "    <tr>\n",
       "      <th>El Quiñón</th>\n",
       "      <td>13</td>\n",
       "      <td>0.03</td>\n",
       "    </tr>\n",
       "  </tbody>\n",
       "</table>\n",
       "</div>"
      ],
      "text/plain": [
       "                    count  proportion\n",
       "district                             \n",
       "unkonwn               109        0.25\n",
       "Centro                 48        0.11\n",
       "Villaverde             23        0.05\n",
       "Puente de Vallecas     17        0.04\n",
       "El Quiñón              13        0.03"
      ]
     },
     "execution_count": 216,
     "metadata": {},
     "output_type": "execute_result"
    }
   ],
   "source": [
    "value_counts(df, 'district').head()"
   ]
  },
  {
   "cell_type": "code",
   "execution_count": 217,
   "metadata": {},
   "outputs": [
    {
     "name": "stdout",
     "output_type": "stream",
     "text": [
      "Number of missing values: 0\n",
      "Number of different entries: 97\n"
     ]
    }
   ],
   "source": [
    "print(f\"Number of missing values: {df['district'].isna().sum()}\\nNumber of different entries: {df['district'].nunique()}\")"
   ]
  },
  {
   "cell_type": "markdown",
   "metadata": {},
   "source": [
    "Let's visualize only the top 25 districts"
   ]
  },
  {
   "cell_type": "code",
   "execution_count": null,
   "metadata": {},
   "outputs": [
    {
     "data": {
      "image/png": "[encoded data removed]",
      "text/plain": [
       "<Figure size 1500x700 with 1 Axes>"
      ]
     },
     "metadata": {},
     "output_type": "display_data"
    }
   ],
   "source": [
    "main_districts = df['district'].value_counts().iloc[1:26].index.to_list()\n",
    "plot_categoric_distribution(df[df['district'].isin(main_districts)], 'district', size=(15, 7), rotation=90)"
   ]
  },
  {
   "cell_type": "markdown",
   "metadata": {},
   "source": [
    "Setting aside `unknown`, `centro` is the most frequent district, followed by `villaverde` and `puente de vallecas`"
   ]
  },
  {
   "cell_type": "markdown",
   "metadata": {},
   "source": [
    "### **`neighborhood`**\n",
    "\n",
    "Neighborhood within the district (less complete data compared to `district`)."
   ]
  },
  {
   "cell_type": "code",
   "execution_count": 219,
   "metadata": {},
   "outputs": [
    {
     "name": "stdout",
     "output_type": "stream",
     "text": [
      "Number of missing values: 268\n",
      "Number of different entries: 74\n"
     ]
    }
   ],
   "source": [
    "print(f\"Number of missing values: {df['neighborhood'].isna().sum()}\\nNumber of different entries: {df['neighborhood'].nunique()}\")"
   ]
  },
  {
   "cell_type": "code",
   "execution_count": 221,
   "metadata": {},
   "outputs": [],
   "source": [
    "df['neighborhood'].fillna('unkonwn', inplace=True)"
   ]
  },
  {
   "cell_type": "code",
   "execution_count": 226,
   "metadata": {},
   "outputs": [
    {
     "data": {
      "text/html": [
       "<div>\n",
       "<style scoped>\n",
       "    .dataframe tbody tr th:only-of-type {\n",
       "        vertical-align: middle;\n",
       "    }\n",
       "\n",
       "    .dataframe tbody tr th {\n",
       "        vertical-align: top;\n",
       "    }\n",
       "\n",
       "    .dataframe thead th {\n",
       "        text-align: right;\n",
       "    }\n",
       "</style>\n",
       "<table border=\"1\" class=\"dataframe\">\n",
       "  <thead>\n",
       "    <tr style=\"text-align: right;\">\n",
       "      <th></th>\n",
       "      <th>count</th>\n",
       "      <th>proportion</th>\n",
       "    </tr>\n",
       "    <tr>\n",
       "      <th>neighborhood</th>\n",
       "      <th></th>\n",
       "      <th></th>\n",
       "    </tr>\n",
       "  </thead>\n",
       "  <tbody>\n",
       "    <tr>\n",
       "      <th>unkonwn</th>\n",
       "      <td>268</td>\n",
       "      <td>0.61</td>\n",
       "    </tr>\n",
       "    <tr>\n",
       "      <th>Lavapiés-Embajadores</th>\n",
       "      <td>11</td>\n",
       "      <td>0.02</td>\n",
       "    </tr>\n",
       "    <tr>\n",
       "      <th>Villaverde Alto</th>\n",
       "      <td>9</td>\n",
       "      <td>0.02</td>\n",
       "    </tr>\n",
       "    <tr>\n",
       "      <th>San Diego</th>\n",
       "      <td>8</td>\n",
       "      <td>0.02</td>\n",
       "    </tr>\n",
       "    <tr>\n",
       "      <th>Valdeacederas</th>\n",
       "      <td>8</td>\n",
       "      <td>0.02</td>\n",
       "    </tr>\n",
       "  </tbody>\n",
       "</table>\n",
       "</div>"
      ],
      "text/plain": [
       "                      count  proportion\n",
       "neighborhood                           \n",
       "unkonwn                 268        0.61\n",
       "Lavapiés-Embajadores     11        0.02\n",
       "Villaverde Alto           9        0.02\n",
       "San Diego                 8        0.02\n",
       "Valdeacederas             8        0.02"
      ]
     },
     "execution_count": 226,
     "metadata": {},
     "output_type": "execute_result"
    }
   ],
   "source": [
    "value_counts(df, 'neighborhood').head()"
   ]
  },
  {
   "cell_type": "markdown",
   "metadata": {},
   "source": [
    "Since we have some missing values we can create an `unkonwn` category. For next steps we can geolocate the via coordinates"
   ]
  },
  {
   "cell_type": "code",
   "execution_count": 227,
   "metadata": {},
   "outputs": [
    {
     "name": "stdout",
     "output_type": "stream",
     "text": [
      "Number of missing values: 0\n",
      "Number of different entries: 75\n"
     ]
    }
   ],
   "source": [
    "print(f\"Number of missing values: {df['neighborhood'].isna().sum()}\\nNumber of different entries: {df['neighborhood'].nunique()}\")"
   ]
  },
  {
   "cell_type": "markdown",
   "metadata": {},
   "source": [
    "Let's visualize only top 25 `neighborhood`"
   ]
  },
  {
   "cell_type": "code",
   "execution_count": 229,
   "metadata": {},
   "outputs": [
    {
     "data": {
      "image/png": "[encoded data removed]",
      "text/plain": [
       "<Figure size 1500x700 with 1 Axes>"
      ]
     },
     "metadata": {},
     "output_type": "display_data"
    }
   ],
   "source": [
    "main_neighborhoods = df['neighborhood'].value_counts().iloc[1:26].index.to_list()\n",
    "plot_categoric_distribution(df[df['neighborhood'].isin(main_neighborhoods)], 'neighborhood', size=(15, 7), rotation=90)"
   ]
  },
  {
   "cell_type": "markdown",
   "metadata": {},
   "source": [
    "If we delve into the neighborhoods of each district, we find that `Lavapiés-Embajadores` has the largest number of homes, followed by neighborhoods such as `Villaverde Alto`, `Valdeacederas`, or `San Diego`.  \n",
    "\n",
    "However, since we have quite a few unknown neighborhoods and they are a subcategory of `district`, it might be worth considering removing this column if it doesn't provide relevant information."
   ]
  },
  {
   "cell_type": "markdown",
   "metadata": {},
   "source": [
    "### **`latitude`** and **`longitude`**\n",
    "\n",
    "Geographic coordinates of the property."
   ]
  },
  {
   "cell_type": "code",
   "execution_count": 231,
   "metadata": {},
   "outputs": [
    {
     "name": "stdout",
     "output_type": "stream",
     "text": [
      "<class 'pandas.core.frame.DataFrame'>\n",
      "Index: 442 entries, 0 to 449\n",
      "Data columns (total 2 columns):\n",
      " #   Column     Non-Null Count  Dtype \n",
      "---  ------     --------------  ----- \n",
      " 0   latitude   442 non-null    object\n",
      " 1   longitude  442 non-null    object\n",
      "dtypes: object(2)\n",
      "memory usage: 10.4+ KB\n"
     ]
    }
   ],
   "source": [
    "df[['latitude', 'longitude']].info()"
   ]
  },
  {
   "cell_type": "markdown",
   "metadata": {},
   "source": [
    "### **`address`**\n",
    "\n",
    "Approximate or descriptive address of the property."
   ]
  },
  {
   "cell_type": "code",
   "execution_count": 235,
   "metadata": {},
   "outputs": [
    {
     "data": {
      "text/html": [
       "<div>\n",
       "<style scoped>\n",
       "    .dataframe tbody tr th:only-of-type {\n",
       "        vertical-align: middle;\n",
       "    }\n",
       "\n",
       "    .dataframe tbody tr th {\n",
       "        vertical-align: top;\n",
       "    }\n",
       "\n",
       "    .dataframe thead th {\n",
       "        text-align: right;\n",
       "    }\n",
       "</style>\n",
       "<table border=\"1\" class=\"dataframe\">\n",
       "  <thead>\n",
       "    <tr style=\"text-align: right;\">\n",
       "      <th></th>\n",
       "      <th>count</th>\n",
       "      <th>proportion</th>\n",
       "    </tr>\n",
       "    <tr>\n",
       "      <th>address</th>\n",
       "      <th></th>\n",
       "      <th></th>\n",
       "    </tr>\n",
       "  </thead>\n",
       "  <tbody>\n",
       "    <tr>\n",
       "      <th>Calle Valle de Ambles, 2</th>\n",
       "      <td>7</td>\n",
       "      <td>0.02</td>\n",
       "    </tr>\n",
       "    <tr>\n",
       "      <th>El Quiñón</th>\n",
       "      <td>4</td>\n",
       "      <td>0.01</td>\n",
       "    </tr>\n",
       "    <tr>\n",
       "      <th>Calle de Honduras</th>\n",
       "      <td>3</td>\n",
       "      <td>0.01</td>\n",
       "    </tr>\n",
       "    <tr>\n",
       "      <th>Calle de Sáhara</th>\n",
       "      <td>3</td>\n",
       "      <td>0.01</td>\n",
       "    </tr>\n",
       "    <tr>\n",
       "      <th>Calle de Rocafort</th>\n",
       "      <td>2</td>\n",
       "      <td>0.00</td>\n",
       "    </tr>\n",
       "  </tbody>\n",
       "</table>\n",
       "</div>"
      ],
      "text/plain": [
       "                          count  proportion\n",
       "address                                    \n",
       "Calle Valle de Ambles, 2      7        0.02\n",
       "El Quiñón                     4        0.01\n",
       "Calle de Honduras             3        0.01\n",
       "Calle de Sáhara               3        0.01\n",
       "Calle de Rocafort             2        0.00"
      ]
     },
     "execution_count": 235,
     "metadata": {},
     "output_type": "execute_result"
    }
   ],
   "source": [
    "value_counts(df, 'address').head()"
   ]
  },
  {
   "cell_type": "markdown",
   "metadata": {},
   "source": [
    "Vemos que hay una calle con número con 7 viviendas. Sospechamos que pueden ser diferentes hogares alquilados dentro del mismo edificio."
   ]
  },
  {
   "cell_type": "code",
   "execution_count": 237,
   "metadata": {},
   "outputs": [
    {
     "data": {
      "text/html": [
       "<div>\n",
       "<style scoped>\n",
       "    .dataframe tbody tr th:only-of-type {\n",
       "        vertical-align: middle;\n",
       "    }\n",
       "\n",
       "    .dataframe tbody tr th {\n",
       "        vertical-align: top;\n",
       "    }\n",
       "\n",
       "    .dataframe thead th {\n",
       "        text-align: right;\n",
       "    }\n",
       "</style>\n",
       "<table border=\"1\" class=\"dataframe\">\n",
       "  <thead>\n",
       "    <tr style=\"text-align: right;\">\n",
       "      <th></th>\n",
       "      <th>propertyCode</th>\n",
       "      <th>numPhotos</th>\n",
       "      <th>price</th>\n",
       "      <th>propertyType</th>\n",
       "      <th>operation</th>\n",
       "      <th>size</th>\n",
       "      <th>exterior</th>\n",
       "      <th>rooms</th>\n",
       "      <th>bathrooms</th>\n",
       "      <th>address</th>\n",
       "      <th>...</th>\n",
       "      <th>superTopHighlight</th>\n",
       "      <th>topNewDevelopment</th>\n",
       "      <th>externalReference</th>\n",
       "      <th>floor</th>\n",
       "      <th>district</th>\n",
       "      <th>neighborhood</th>\n",
       "      <th>hasLift</th>\n",
       "      <th>parkingSpace</th>\n",
       "      <th>labels</th>\n",
       "      <th>newDevelopmentFinished</th>\n",
       "    </tr>\n",
       "  </thead>\n",
       "  <tbody>\n",
       "    <tr>\n",
       "      <th>245</th>\n",
       "      <td>98068981</td>\n",
       "      <td>19</td>\n",
       "      <td>692.0</td>\n",
       "      <td>flat</td>\n",
       "      <td>rent</td>\n",
       "      <td>83.0</td>\n",
       "      <td>True</td>\n",
       "      <td>2</td>\n",
       "      <td>2</td>\n",
       "      <td>Calle Valle de Ambles, 2</td>\n",
       "      <td>...</td>\n",
       "      <td>False</td>\n",
       "      <td>False</td>\n",
       "      <td>VT02</td>\n",
       "      <td>NaN</td>\n",
       "      <td>Suroeste</td>\n",
       "      <td>unkonwn</td>\n",
       "      <td>True</td>\n",
       "      <td>{'hasParkingSpace': True, 'isParkingSpaceInclu...</td>\n",
       "      <td>NaN</td>\n",
       "      <td>True</td>\n",
       "    </tr>\n",
       "    <tr>\n",
       "      <th>246</th>\n",
       "      <td>98069014</td>\n",
       "      <td>19</td>\n",
       "      <td>670.0</td>\n",
       "      <td>flat</td>\n",
       "      <td>rent</td>\n",
       "      <td>79.0</td>\n",
       "      <td>True</td>\n",
       "      <td>2</td>\n",
       "      <td>2</td>\n",
       "      <td>Calle Valle de Ambles, 2</td>\n",
       "      <td>...</td>\n",
       "      <td>False</td>\n",
       "      <td>False</td>\n",
       "      <td>VT07</td>\n",
       "      <td>NaN</td>\n",
       "      <td>Suroeste</td>\n",
       "      <td>unkonwn</td>\n",
       "      <td>True</td>\n",
       "      <td>{'hasParkingSpace': True, 'isParkingSpaceInclu...</td>\n",
       "      <td>NaN</td>\n",
       "      <td>True</td>\n",
       "    </tr>\n",
       "    <tr>\n",
       "      <th>248</th>\n",
       "      <td>98069020</td>\n",
       "      <td>19</td>\n",
       "      <td>718.0</td>\n",
       "      <td>flat</td>\n",
       "      <td>rent</td>\n",
       "      <td>86.0</td>\n",
       "      <td>True</td>\n",
       "      <td>2</td>\n",
       "      <td>2</td>\n",
       "      <td>Calle Valle de Ambles, 2</td>\n",
       "      <td>...</td>\n",
       "      <td>False</td>\n",
       "      <td>False</td>\n",
       "      <td>VT06</td>\n",
       "      <td>NaN</td>\n",
       "      <td>Suroeste</td>\n",
       "      <td>unkonwn</td>\n",
       "      <td>True</td>\n",
       "      <td>{'hasParkingSpace': True, 'isParkingSpaceInclu...</td>\n",
       "      <td>NaN</td>\n",
       "      <td>True</td>\n",
       "    </tr>\n",
       "    <tr>\n",
       "      <th>249</th>\n",
       "      <td>98068962</td>\n",
       "      <td>19</td>\n",
       "      <td>694.0</td>\n",
       "      <td>flat</td>\n",
       "      <td>rent</td>\n",
       "      <td>81.0</td>\n",
       "      <td>True</td>\n",
       "      <td>2</td>\n",
       "      <td>2</td>\n",
       "      <td>Calle Valle de Ambles, 2</td>\n",
       "      <td>...</td>\n",
       "      <td>False</td>\n",
       "      <td>False</td>\n",
       "      <td>VT04</td>\n",
       "      <td>NaN</td>\n",
       "      <td>Suroeste</td>\n",
       "      <td>unkonwn</td>\n",
       "      <td>True</td>\n",
       "      <td>{'hasParkingSpace': True, 'isParkingSpaceInclu...</td>\n",
       "      <td>NaN</td>\n",
       "      <td>True</td>\n",
       "    </tr>\n",
       "    <tr>\n",
       "      <th>250</th>\n",
       "      <td>98069018</td>\n",
       "      <td>19</td>\n",
       "      <td>658.0</td>\n",
       "      <td>flat</td>\n",
       "      <td>rent</td>\n",
       "      <td>78.0</td>\n",
       "      <td>True</td>\n",
       "      <td>2</td>\n",
       "      <td>2</td>\n",
       "      <td>Calle Valle de Ambles, 2</td>\n",
       "      <td>...</td>\n",
       "      <td>False</td>\n",
       "      <td>False</td>\n",
       "      <td>VT05</td>\n",
       "      <td>NaN</td>\n",
       "      <td>Suroeste</td>\n",
       "      <td>unkonwn</td>\n",
       "      <td>True</td>\n",
       "      <td>{'hasParkingSpace': True, 'isParkingSpaceInclu...</td>\n",
       "      <td>NaN</td>\n",
       "      <td>True</td>\n",
       "    </tr>\n",
       "  </tbody>\n",
       "</table>\n",
       "<p>5 rows × 38 columns</p>\n",
       "</div>"
      ],
      "text/plain": [
       "     propertyCode  numPhotos  price propertyType operation  size  exterior  \\\n",
       "245      98068981         19  692.0         flat      rent  83.0      True   \n",
       "246      98069014         19  670.0         flat      rent  79.0      True   \n",
       "248      98069020         19  718.0         flat      rent  86.0      True   \n",
       "249      98068962         19  694.0         flat      rent  81.0      True   \n",
       "250      98069018         19  658.0         flat      rent  78.0      True   \n",
       "\n",
       "     rooms  bathrooms                   address  ... superTopHighlight  \\\n",
       "245      2          2  Calle Valle de Ambles, 2  ...             False   \n",
       "246      2          2  Calle Valle de Ambles, 2  ...             False   \n",
       "248      2          2  Calle Valle de Ambles, 2  ...             False   \n",
       "249      2          2  Calle Valle de Ambles, 2  ...             False   \n",
       "250      2          2  Calle Valle de Ambles, 2  ...             False   \n",
       "\n",
       "    topNewDevelopment externalReference floor  district  neighborhood  \\\n",
       "245             False              VT02   NaN  Suroeste       unkonwn   \n",
       "246             False              VT07   NaN  Suroeste       unkonwn   \n",
       "248             False              VT06   NaN  Suroeste       unkonwn   \n",
       "249             False              VT04   NaN  Suroeste       unkonwn   \n",
       "250             False              VT05   NaN  Suroeste       unkonwn   \n",
       "\n",
       "     hasLift                                       parkingSpace labels  \\\n",
       "245     True  {'hasParkingSpace': True, 'isParkingSpaceInclu...    NaN   \n",
       "246     True  {'hasParkingSpace': True, 'isParkingSpaceInclu...    NaN   \n",
       "248     True  {'hasParkingSpace': True, 'isParkingSpaceInclu...    NaN   \n",
       "249     True  {'hasParkingSpace': True, 'isParkingSpaceInclu...    NaN   \n",
       "250     True  {'hasParkingSpace': True, 'isParkingSpaceInclu...    NaN   \n",
       "\n",
       "    newDevelopmentFinished  \n",
       "245                   True  \n",
       "246                   True  \n",
       "248                   True  \n",
       "249                   True  \n",
       "250                   True  \n",
       "\n",
       "[5 rows x 38 columns]"
      ]
     },
     "execution_count": 237,
     "metadata": {},
     "output_type": "execute_result"
    }
   ],
   "source": [
    "df[df['address'] == 'Calle Valle de Ambles, 2'].head()"
   ]
  },
  {
   "cell_type": "markdown",
   "metadata": {},
   "source": [
    "Parece que efectivamente es esto. De todas formas esta columna no nos proporciona información útil para construir un modelo predictivo por lo que posiblemente la eliminemos "
   ]
  },
  {
   "cell_type": "markdown",
   "metadata": {},
   "source": [
    "---"
   ]
  },
  {
   "cell_type": "markdown",
   "metadata": {},
   "source": [
    "Nulos:\n",
    "\n",
    "externalReference       338 non-null    object \n",
    "\n",
    "floor                   361 non-null    object\n",
    "\n",
    "`district`                333 non-null    object\n",
    "\n",
    "`neighborhood`            174 non-null    object\n",
    "\n",
    "hasLift                 411 non-null    object \n",
    "\n",
    "parkingSpace            134 non-null    object \n",
    "\n",
    "labels                  30 non-null     object \n",
    "\n",
    "newDevelopmentFinished  13 non-null     object "
   ]
  },
  {
   "cell_type": "markdown",
   "metadata": {},
   "source": [
    "---"
   ]
  },
  {
   "cell_type": "markdown",
   "metadata": {},
   "source": [
    "### Main Columns\n",
    "\n",
    "\n",
    "\n",
    "### Additional Attributes\n",
    "\n",
    "- **`numPhotos`**: Number of photos available for the property.\n",
    "\n",
    "- **`exterior`**: Boolean indicator showing if the property is exterior-facing (`True` or `False`).\n",
    "\n",
    "- **`hasLift`**: Indicates if the property has an elevator (`True` or `False`, with some null values).\n",
    "\n",
    "- **`parkingSpace`**: Information about parking space (detailed in JSON format in some rows).\n",
    "\n",
    "- **`priceByArea`**: Price per square meter in euros.\n",
    "\n",
    "- **`floor`**: Floor where the property is located (e.g., ground floor, 1st floor, penthouse).\n",
    "\n",
    "- **`description`**: Textual description of the property.\n",
    "\n",
    "### Listing Features Columns\n",
    "\n",
    "- **`hasVideo`**: Indicates if the listing includes a video (`True` or `False`).\n",
    "\n",
    "- **`has3DTour`**: Indicates if the listing has a 3D tour available.\n",
    "\n",
    "- **`newDevelopment`**: Boolean indicating if the property is a new development.\n",
    "\n",
    "- **`superTopHighlight`** and **`topNewDevelopment`**: Boolean indicators of the prominence or highlight status of the listing on the platform.\n",
    "\n",
    "### Less Complete Features\n",
    "\n",
    "- **`neighborhood`** and **`district`**: Although important, these contain null values and may require cleaning.\n",
    "\n",
    "- **`parkingSpace`** and **`labels`**: Information limited to a few properties.\n",
    "\n",
    "- **`newDevelopmentFinished`**: Only available for specific properties, with low representation."
   ]
  },
  {
   "cell_type": "markdown",
   "metadata": {},
   "source": []
  }
 ],
 "metadata": {
  "kernelspec": {
   "display_name": "proyecto7",
   "language": "python",
   "name": "python3"
  },
  "language_info": {
   "codemirror_mode": {
    "name": "ipython",
    "version": 3
   },
   "file_extension": ".py",
   "mimetype": "text/x-python",
   "name": "python",
   "nbconvert_exporter": "python",
   "pygments_lexer": "ipython3",
   "version": "3.12.7"
  }
 },
 "nbformat": 4,
 "nbformat_minor": 2
}
