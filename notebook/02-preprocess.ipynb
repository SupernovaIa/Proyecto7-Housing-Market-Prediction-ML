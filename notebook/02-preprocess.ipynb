{
 "cells": [
  {
   "cell_type": "code",
   "execution_count": 1,
   "metadata": {},
   "outputs": [],
   "source": [
    "# Data processing  \n",
    "# -----------------------------------------------------------------------\n",
    "import pandas as pd\n",
    "import numpy as np\n",
    "import pickle\n",
    "\n",
    "# Pandas options  \n",
    "# -----------------------------------------------------------------------\n",
    "pd.options.display.max_colwidth = None\n",
    "\n",
    "# Path configuration for custom module imports  \n",
    "# -----------------------------------------------------------------------\n",
    "import sys  \n",
    "sys.path.append('../')  # Adds the parent directory to the path for custom module imports  \n",
    "\n",
    "# Ignore warnings  \n",
    "# -----------------------------------------------------------------------\n",
    "import warnings  \n",
    "warnings.filterwarnings(\"ignore\") \n",
    "\n",
    "# Machine learning imports\n",
    "# -----------------------------------------------------------------------\n",
    "from sklearn.preprocessing import StandardScaler\n",
    "\n",
    "# Custom functions and classes\n",
    "# -----------------------------------------------------------------------\n",
    "from src.support_preprocess import Encoding"
   ]
  },
  {
   "cell_type": "code",
   "execution_count": 2,
   "metadata": {},
   "outputs": [],
   "source": [
    "df = pd.read_csv('../data/output/api_rent_madrid_eda.csv', index_col=0).reset_index(drop=True)"
   ]
  },
  {
   "cell_type": "code",
   "execution_count": 3,
   "metadata": {},
   "outputs": [
    {
     "data": {
      "text/html": [
       "<div>\n",
       "<style scoped>\n",
       "    .dataframe tbody tr th:only-of-type {\n",
       "        vertical-align: middle;\n",
       "    }\n",
       "\n",
       "    .dataframe tbody tr th {\n",
       "        vertical-align: top;\n",
       "    }\n",
       "\n",
       "    .dataframe thead th {\n",
       "        text-align: right;\n",
       "    }\n",
       "</style>\n",
       "<table border=\"1\" class=\"dataframe\">\n",
       "  <thead>\n",
       "    <tr style=\"text-align: right;\">\n",
       "      <th></th>\n",
       "      <th>price</th>\n",
       "      <th>propertyType</th>\n",
       "      <th>size</th>\n",
       "      <th>exterior</th>\n",
       "      <th>rooms</th>\n",
       "      <th>bathrooms</th>\n",
       "      <th>distance</th>\n",
       "      <th>floor</th>\n",
       "      <th>municipality</th>\n",
       "      <th>province</th>\n",
       "      <th>hasLift</th>\n",
       "      <th>numPhotos</th>\n",
       "    </tr>\n",
       "  </thead>\n",
       "  <tbody>\n",
       "    <tr>\n",
       "      <th>0</th>\n",
       "      <td>550.0</td>\n",
       "      <td>chalet</td>\n",
       "      <td>371.0</td>\n",
       "      <td>False</td>\n",
       "      <td>6</td>\n",
       "      <td>3</td>\n",
       "      <td>40116</td>\n",
       "      <td>unknown</td>\n",
       "      <td>Numancia de la Sagra</td>\n",
       "      <td>Toledo</td>\n",
       "      <td>unknown</td>\n",
       "      <td>33</td>\n",
       "    </tr>\n",
       "    <tr>\n",
       "      <th>1</th>\n",
       "      <td>750.0</td>\n",
       "      <td>flat</td>\n",
       "      <td>60.0</td>\n",
       "      <td>True</td>\n",
       "      <td>1</td>\n",
       "      <td>1</td>\n",
       "      <td>7037</td>\n",
       "      <td>3</td>\n",
       "      <td>Madrid</td>\n",
       "      <td>Madrid</td>\n",
       "      <td>True</td>\n",
       "      <td>12</td>\n",
       "    </tr>\n",
       "    <tr>\n",
       "      <th>2</th>\n",
       "      <td>750.0</td>\n",
       "      <td>flat</td>\n",
       "      <td>70.0</td>\n",
       "      <td>True</td>\n",
       "      <td>2</td>\n",
       "      <td>1</td>\n",
       "      <td>16145</td>\n",
       "      <td>bj</td>\n",
       "      <td>San Sebastián de los Reyes</td>\n",
       "      <td>Madrid</td>\n",
       "      <td>False</td>\n",
       "      <td>21</td>\n",
       "    </tr>\n",
       "    <tr>\n",
       "      <th>3</th>\n",
       "      <td>400.0</td>\n",
       "      <td>penthouse</td>\n",
       "      <td>67.0</td>\n",
       "      <td>True</td>\n",
       "      <td>2</td>\n",
       "      <td>2</td>\n",
       "      <td>55041</td>\n",
       "      <td>2</td>\n",
       "      <td>Villamanrique de Tajo</td>\n",
       "      <td>Madrid</td>\n",
       "      <td>False</td>\n",
       "      <td>28</td>\n",
       "    </tr>\n",
       "    <tr>\n",
       "      <th>4</th>\n",
       "      <td>450.0</td>\n",
       "      <td>flat</td>\n",
       "      <td>89.0</td>\n",
       "      <td>False</td>\n",
       "      <td>2</td>\n",
       "      <td>1</td>\n",
       "      <td>47186</td>\n",
       "      <td>2</td>\n",
       "      <td>Recas</td>\n",
       "      <td>Toledo</td>\n",
       "      <td>True</td>\n",
       "      <td>22</td>\n",
       "    </tr>\n",
       "  </tbody>\n",
       "</table>\n",
       "</div>"
      ],
      "text/plain": [
       "   price propertyType   size  exterior  rooms  bathrooms  distance    floor  \\\n",
       "0  550.0       chalet  371.0     False      6          3     40116  unknown   \n",
       "1  750.0         flat   60.0      True      1          1      7037        3   \n",
       "2  750.0         flat   70.0      True      2          1     16145       bj   \n",
       "3  400.0    penthouse   67.0      True      2          2     55041        2   \n",
       "4  450.0         flat   89.0     False      2          1     47186        2   \n",
       "\n",
       "                 municipality province  hasLift  numPhotos  \n",
       "0        Numancia de la Sagra   Toledo  unknown         33  \n",
       "1                      Madrid   Madrid     True         12  \n",
       "2  San Sebastián de los Reyes   Madrid    False         21  \n",
       "3       Villamanrique de Tajo   Madrid    False         28  \n",
       "4                       Recas   Toledo     True         22  "
      ]
     },
     "execution_count": 3,
     "metadata": {},
     "output_type": "execute_result"
    }
   ],
   "source": [
    "df.head()"
   ]
  },
  {
   "cell_type": "markdown",
   "metadata": {},
   "source": [
    "### Feature scaling"
   ]
  },
  {
   "cell_type": "code",
   "execution_count": 4,
   "metadata": {},
   "outputs": [
    {
     "name": "stdout",
     "output_type": "stream",
     "text": [
      "<class 'pandas.core.frame.DataFrame'>\n",
      "RangeIndex: 440 entries, 0 to 439\n",
      "Data columns (total 12 columns):\n",
      " #   Column        Non-Null Count  Dtype  \n",
      "---  ------        --------------  -----  \n",
      " 0   price         440 non-null    float64\n",
      " 1   propertyType  440 non-null    object \n",
      " 2   size          440 non-null    float64\n",
      " 3   exterior      440 non-null    bool   \n",
      " 4   rooms         440 non-null    int64  \n",
      " 5   bathrooms     440 non-null    int64  \n",
      " 6   distance      440 non-null    int64  \n",
      " 7   floor         440 non-null    object \n",
      " 8   municipality  440 non-null    object \n",
      " 9   province      440 non-null    object \n",
      " 10  hasLift       440 non-null    object \n",
      " 11  numPhotos     440 non-null    int64  \n",
      "dtypes: bool(1), float64(2), int64(4), object(5)\n",
      "memory usage: 38.4+ KB\n"
     ]
    }
   ],
   "source": [
    "df.info()"
   ]
  },
  {
   "cell_type": "markdown",
   "metadata": {},
   "source": [
    "### Column Analysis\n",
    "\n",
    "| Column         | Data Type   | Observations                                  |\n",
    "|----------------|-------------|-----------------------------------------------|\n",
    "| `price`        | `float64`   | Target variable. We do not scale it.          |\n",
    "| `propertyType` | `object`    | Categorical, requires encoding.               |\n",
    "| `size`         | `float64`   | Continuous, requires scaling.                 |\n",
    "| `exterior`     | `bool`      | Binary, can be encoded as 0/1.                |\n",
    "| `rooms`        | `int64`     | Discrete continuous, can be scaled.           |\n",
    "| `distance`     | `int64`     | Continuous, represents distances; requires scaling. |\n",
    "| `floor`        | `object`    | Mixed categorical and ordinal. Requires special transformation. |\n",
    "| `municipality` | `object`    | Categorical, requires encoding.               |\n",
    "| `province`     | `object`    | Categorical, requires encoding.               |\n",
    "| `hasLift`      | `object`    | Categorical, requires encoding.               |\n",
    "| `numPhotos`    | `int64`     | Discrete continuous, can be scaled.           |\n",
    "\n",
    "### Encoding Strategy\n",
    "\n",
    "1. Nominal Categorical Variables:\n",
    "   - `propertyType`, `municipality`, `province` are unordered categorical variables.\n",
    "   - We use **One-Hot Encoding** for `propertyType` since there are few levels.\n",
    "   - We use **Target Encoding** for `municipality`, `province` and `hasLift` since there are many levels and makes more sense.\n",
    "\n",
    "2. Ordinal Categorical Variables:\n",
    "   - `floor` is ordinal, so we use **Ordinal Encoding** with logical ordering.\n",
    "   - Since it contains mixed text and numbers, we first transform the numbers and assign specific values to categories like \"bj\" or \"st\".\n",
    "\n",
    "3. Binary Variables:\n",
    "   - `exterior` and `hasLift` are already in boolean format. We convert them to 0/1.\n",
    "\n",
    "### Scaling Strategy\n",
    "\n",
    "1. Continuous Variables:\n",
    "   - `size`, `rooms`, `distance`, and `numPhotos` are numerical and vary in scale.  \n",
    "   - We can use either **Standard Scaling** or **Min-Max Scaling** since we don't have strong outlier presence.\n",
    "\n",
    "2. Target Variable (`price`):\n",
    "   - Typically, this is not scaled so we leave it as it is.\n"
   ]
  },
  {
   "cell_type": "markdown",
   "metadata": {},
   "source": [
    "### Scaling"
   ]
  },
  {
   "cell_type": "code",
   "execution_count": 5,
   "metadata": {},
   "outputs": [],
   "source": [
    "# StandardScaler\n",
    "numeric_features = ['size', 'rooms', 'distance', 'numPhotos']\n",
    "numeric_transformer = StandardScaler()\n",
    "\n",
    "scaled_data = numeric_transformer.fit_transform(df[numeric_features])\n",
    "df[numeric_features] = scaled_data"
   ]
  },
  {
   "cell_type": "markdown",
   "metadata": {},
   "source": [
    "### Encoding"
   ]
  },
  {
   "cell_type": "code",
   "execution_count": 6,
   "metadata": {},
   "outputs": [],
   "source": [
    "encoding_methods = {\"onehot\": ['propertyType'],\n",
    "                    \"target\": ['municipality', 'province', 'hasLift'],\n",
    "                    \"ordinal\" : {\n",
    "                        'floor': ['ss', 'st', 'bj', 'en', '1', '2', '3', '4', '5', '6', '7', '8', '14', 'unknown']\n",
    "                        },\n",
    "                    \"frequency\": []\n",
    "                    }\n",
    "\n",
    "encoder = Encoding(df, encoding_methods, 'price')"
   ]
  },
  {
   "cell_type": "code",
   "execution_count": 7,
   "metadata": {},
   "outputs": [],
   "source": [
    "df_preprocessed = encoder.execute_all_encodings()"
   ]
  },
  {
   "cell_type": "code",
   "execution_count": 8,
   "metadata": {},
   "outputs": [],
   "source": [
    "df_preprocessed.to_csv('../data/output/api_rent_madrid_preprocessed.csv')"
   ]
  },
  {
   "cell_type": "markdown",
   "metadata": {},
   "source": [
    "### Save pickles"
   ]
  },
  {
   "cell_type": "code",
   "execution_count": 14,
   "metadata": {},
   "outputs": [],
   "source": [
    "with open('../models/options/propertyType.pkl', 'wb') as archivo:\n",
    "    pickle.dump(df[\"propertyType\"].unique().tolist(), archivo)\n",
    "\n",
    "with open('../models/options/municipality.pkl', 'wb') as archivo:\n",
    "    pickle.dump(df[\"municipality\"].unique().tolist(), archivo)\n",
    "\n",
    "with open('../models/options/provinces.pkl', 'wb') as archivo:\n",
    "    pickle.dump(df[\"province\"].unique().tolist(), archivo)"
   ]
  }
 ],
 "metadata": {
  "kernelspec": {
   "display_name": "proyecto7",
   "language": "python",
   "name": "python3"
  },
  "language_info": {
   "codemirror_mode": {
    "name": "ipython",
    "version": 3
   },
   "file_extension": ".py",
   "mimetype": "text/x-python",
   "name": "python",
   "nbconvert_exporter": "python",
   "pygments_lexer": "ipython3",
   "version": "3.12.7"
  }
 },
 "nbformat": 4,
 "nbformat_minor": 2
}
