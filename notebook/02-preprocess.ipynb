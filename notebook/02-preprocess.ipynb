{
 "cells": [
  {
   "cell_type": "code",
   "execution_count": 24,
   "metadata": {},
   "outputs": [],
   "source": [
    "# Data processing  \n",
    "# -----------------------------------------------------------------------\n",
    "import pandas as pd\n",
    "import numpy as np\n",
    "\n",
    "# Pandas options  \n",
    "# -----------------------------------------------------------------------\n",
    "pd.options.display.max_colwidth = None\n",
    "\n",
    "# Path configuration for custom module imports  \n",
    "# -----------------------------------------------------------------------\n",
    "import sys  \n",
    "sys.path.append('../')  # Adds the parent directory to the path for custom module imports  \n",
    "\n",
    "# Ignore warnings  \n",
    "# -----------------------------------------------------------------------\n",
    "import warnings  \n",
    "warnings.filterwarnings(\"ignore\") \n",
    "\n",
    "\n",
    "# Machine learning imports\n",
    "# -----------------------------------------------------------------------\n",
    "from sklearn.preprocessing import StandardScaler\n",
    "from sklearn.linear_model import LinearRegression\n",
    "from sklearn.model_selection import train_test_split\n",
    "from sklearn.metrics import r2_score, mean_squared_error, mean_absolute_error\n",
    "\n",
    "# Custom functions\n",
    "# -----------------------------------------------------------------------\n",
    "from src.support_preprocess import Encoding"
   ]
  },
  {
   "cell_type": "code",
   "execution_count": 25,
   "metadata": {},
   "outputs": [],
   "source": [
    "df = pd.read_csv('../data/output/api_rent_madrid_eda.csv', index_col=0).reset_index(drop=True)"
   ]
  },
  {
   "cell_type": "code",
   "execution_count": 26,
   "metadata": {},
   "outputs": [
    {
     "data": {
      "text/html": [
       "<div>\n",
       "<style scoped>\n",
       "    .dataframe tbody tr th:only-of-type {\n",
       "        vertical-align: middle;\n",
       "    }\n",
       "\n",
       "    .dataframe tbody tr th {\n",
       "        vertical-align: top;\n",
       "    }\n",
       "\n",
       "    .dataframe thead th {\n",
       "        text-align: right;\n",
       "    }\n",
       "</style>\n",
       "<table border=\"1\" class=\"dataframe\">\n",
       "  <thead>\n",
       "    <tr style=\"text-align: right;\">\n",
       "      <th></th>\n",
       "      <th>price</th>\n",
       "      <th>propertyType</th>\n",
       "      <th>size</th>\n",
       "      <th>exterior</th>\n",
       "      <th>rooms</th>\n",
       "      <th>distance</th>\n",
       "      <th>floor</th>\n",
       "      <th>district</th>\n",
       "      <th>hasLift</th>\n",
       "      <th>numPhotos</th>\n",
       "    </tr>\n",
       "  </thead>\n",
       "  <tbody>\n",
       "    <tr>\n",
       "      <th>0</th>\n",
       "      <td>750.0</td>\n",
       "      <td>flat</td>\n",
       "      <td>60.0</td>\n",
       "      <td>True</td>\n",
       "      <td>1</td>\n",
       "      <td>7037</td>\n",
       "      <td>3</td>\n",
       "      <td>Hortaleza</td>\n",
       "      <td>True</td>\n",
       "      <td>12</td>\n",
       "    </tr>\n",
       "    <tr>\n",
       "      <th>1</th>\n",
       "      <td>684.0</td>\n",
       "      <td>studio</td>\n",
       "      <td>45.0</td>\n",
       "      <td>True</td>\n",
       "      <td>0</td>\n",
       "      <td>10656</td>\n",
       "      <td>unknown</td>\n",
       "      <td>unknown</td>\n",
       "      <td>True</td>\n",
       "      <td>17</td>\n",
       "    </tr>\n",
       "    <tr>\n",
       "      <th>2</th>\n",
       "      <td>550.0</td>\n",
       "      <td>flat</td>\n",
       "      <td>53.0</td>\n",
       "      <td>True</td>\n",
       "      <td>1</td>\n",
       "      <td>4008</td>\n",
       "      <td>1</td>\n",
       "      <td>Puente de Vallecas</td>\n",
       "      <td>False</td>\n",
       "      <td>17</td>\n",
       "    </tr>\n",
       "    <tr>\n",
       "      <th>3</th>\n",
       "      <td>700.0</td>\n",
       "      <td>studio</td>\n",
       "      <td>28.0</td>\n",
       "      <td>True</td>\n",
       "      <td>0</td>\n",
       "      <td>5569</td>\n",
       "      <td>1</td>\n",
       "      <td>Ciudad Lineal</td>\n",
       "      <td>False</td>\n",
       "      <td>19</td>\n",
       "    </tr>\n",
       "    <tr>\n",
       "      <th>4</th>\n",
       "      <td>700.0</td>\n",
       "      <td>flat</td>\n",
       "      <td>45.0</td>\n",
       "      <td>False</td>\n",
       "      <td>1</td>\n",
       "      <td>2046</td>\n",
       "      <td>5</td>\n",
       "      <td>Moncloa</td>\n",
       "      <td>False</td>\n",
       "      <td>18</td>\n",
       "    </tr>\n",
       "  </tbody>\n",
       "</table>\n",
       "</div>"
      ],
      "text/plain": [
       "   price propertyType  size  exterior  rooms  distance    floor  \\\n",
       "0  750.0         flat  60.0      True      1      7037        3   \n",
       "1  684.0       studio  45.0      True      0     10656  unknown   \n",
       "2  550.0         flat  53.0      True      1      4008        1   \n",
       "3  700.0       studio  28.0      True      0      5569        1   \n",
       "4  700.0         flat  45.0     False      1      2046        5   \n",
       "\n",
       "             district  hasLift  numPhotos  \n",
       "0           Hortaleza     True         12  \n",
       "1             unknown     True         17  \n",
       "2  Puente de Vallecas    False         17  \n",
       "3       Ciudad Lineal    False         19  \n",
       "4             Moncloa    False         18  "
      ]
     },
     "execution_count": 26,
     "metadata": {},
     "output_type": "execute_result"
    }
   ],
   "source": [
    "df.head()"
   ]
  },
  {
   "cell_type": "markdown",
   "metadata": {},
   "source": [
    "### Feature scaling"
   ]
  },
  {
   "cell_type": "code",
   "execution_count": 27,
   "metadata": {},
   "outputs": [
    {
     "name": "stdout",
     "output_type": "stream",
     "text": [
      "<class 'pandas.core.frame.DataFrame'>\n",
      "RangeIndex: 170 entries, 0 to 169\n",
      "Data columns (total 10 columns):\n",
      " #   Column        Non-Null Count  Dtype  \n",
      "---  ------        --------------  -----  \n",
      " 0   price         170 non-null    float64\n",
      " 1   propertyType  170 non-null    object \n",
      " 2   size          170 non-null    float64\n",
      " 3   exterior      170 non-null    bool   \n",
      " 4   rooms         170 non-null    int64  \n",
      " 5   distance      170 non-null    int64  \n",
      " 6   floor         170 non-null    object \n",
      " 7   district      170 non-null    object \n",
      " 8   hasLift       170 non-null    bool   \n",
      " 9   numPhotos     170 non-null    int64  \n",
      "dtypes: bool(2), float64(2), int64(3), object(3)\n",
      "memory usage: 11.1+ KB\n"
     ]
    }
   ],
   "source": [
    "df.info()"
   ]
  },
  {
   "cell_type": "markdown",
   "metadata": {},
   "source": [
    "### Column Analysis\n",
    "\n",
    "| Column         | Data Type   | Observations                                  |\n",
    "|----------------|-------------|-----------------------------------------------|\n",
    "| `price`        | `float64`   | Target variable. We do not scale it.          |\n",
    "| `propertyType` | `object`    | Categorical, requires encoding.               |\n",
    "| `size`         | `float64`   | Continuous, requires scaling.                 |\n",
    "| `exterior`     | `bool`      | Binary, can be encoded as 0/1.                |\n",
    "| `rooms`        | `int64`     | Discrete continuous, can be scaled.           |\n",
    "| `distance`     | `int64`     | Continuous, represents distances; requires scaling. |\n",
    "| `floor`        | `object`    | Mixed categorical and ordinal. Requires special transformation. |\n",
    "| `district`     | `object`    | Categorical, requires encoding.               |\n",
    "| `hasLift`      | `bool`      | Binary, can be encoded as 0/1.                |\n",
    "| `numPhotos`    | `int64`     | Discrete continuous, can be scaled.           |\n",
    "\n",
    "### Encoding Strategy\n",
    "\n",
    "1. Nominal Categorical Variables:\n",
    "   - `propertyType` and `district` are unordered categorical variables.\n",
    "   - We use **One-Hot Encoding** for `propertyType` since there are few levels (4).\n",
    "   - We use **Target Encoding** for `district` since there are many levels (21).\n",
    "\n",
    "2. Ordinal Categorical Variables:\n",
    "   - `floor` is ordinal, so we use **Ordinal Encoding** with logical ordering.\n",
    "   - Since it contains mixed text and numbers, we first transform the numbers and assign specific values to categories like \"bj\" or \"st\".\n",
    "\n",
    "3. Binary Variables:\n",
    "   - `exterior` and `hasLift` are already in boolean format. We convert them to 0/1.\n",
    "\n",
    "### Scaling Strategy\n",
    "\n",
    "1. Continuous Variables:\n",
    "   - `size`, `rooms`, `distance`, and `numPhotos` are numerical and vary in scale.  \n",
    "   - We can use either **Standard Scaling** or **Min-Max Scaling** since we don't have strong outlier presence.\n",
    "\n",
    "2. Target Variable (`price`):\n",
    "   - Typically, this is not scaled so we leave it as it is.\n"
   ]
  },
  {
   "cell_type": "markdown",
   "metadata": {},
   "source": [
    "### Scaling"
   ]
  },
  {
   "cell_type": "code",
   "execution_count": 28,
   "metadata": {},
   "outputs": [],
   "source": [
    "# StandardScaler\n",
    "numeric_features = ['size', 'rooms', 'distance', 'numPhotos']\n",
    "numeric_transformer = StandardScaler()\n",
    "\n",
    "scaled_data = numeric_transformer.fit_transform(df[numeric_features])\n",
    "df[numeric_features] = scaled_data"
   ]
  },
  {
   "cell_type": "markdown",
   "metadata": {},
   "source": [
    "### Encoding"
   ]
  },
  {
   "cell_type": "code",
   "execution_count": 29,
   "metadata": {},
   "outputs": [],
   "source": [
    "encoding_methods = {\"onehot\": ['propertyType'],\n",
    "                    \"target\": ['district'],\n",
    "                    \"ordinal\" : {\n",
    "                        'floor': ['ss', 'st', 'bj', 'en', '1', '2', '3', '4', '5', '6', '7', '8', '14', 'unknown']\n",
    "                        },\n",
    "                    \"frequency\": []\n",
    "                    }\n",
    "\n",
    "encoder = Encoding(df, encoding_methods, 'price')"
   ]
  },
  {
   "cell_type": "code",
   "execution_count": 30,
   "metadata": {},
   "outputs": [],
   "source": [
    "df_preprocessed = encoder.execute_all_encodings()"
   ]
  },
  {
   "cell_type": "code",
   "execution_count": 31,
   "metadata": {},
   "outputs": [],
   "source": [
    "df_preprocessed.to_csv('../data/output/api_rent_madrid_preprocessed.csv')"
   ]
  },
  {
   "cell_type": "markdown",
   "metadata": {},
   "source": [
    "---"
   ]
  },
  {
   "cell_type": "code",
   "execution_count": null,
   "metadata": {},
   "outputs": [],
   "source": [
    "# Predicciones para el test\n",
    "y_test_pred = model.predict(X_test)\n",
    "\n",
    "# Predecimos el entrenamiento\n",
    "y_train_pred = model.predict(X_train)"
   ]
  },
  {
   "cell_type": "code",
   "execution_count": null,
   "metadata": {},
   "outputs": [],
   "source": [
    "metricas = {\n",
    "    'train': {\n",
    "        'r2_score': r2_score(y_train, y_train_pred),\n",
    "        'MAE': mean_absolute_error(y_train, y_train_pred),\n",
    "        'RMSE': np.sqrt(mean_squared_error(y_train, y_train_pred))\n",
    "    },\n",
    "    'test': {\n",
    "        'r2_score': r2_score(y_test, y_test_pred),\n",
    "        'MAE': mean_absolute_error(y_test, y_test_pred),\n",
    "        'RMSE': np.sqrt(mean_squared_error(y_test, y_test_pred))\n",
    "    }\n",
    "}"
   ]
  },
  {
   "cell_type": "code",
   "execution_count": null,
   "metadata": {},
   "outputs": [],
   "source": [
    "pd.DataFrame(metricas).round(4).T"
   ]
  },
  {
   "cell_type": "markdown",
   "metadata": {},
   "source": [
    "---"
   ]
  }
 ],
 "metadata": {
  "kernelspec": {
   "display_name": "proyecto7",
   "language": "python",
   "name": "python3"
  },
  "language_info": {
   "codemirror_mode": {
    "name": "ipython",
    "version": 3
   },
   "file_extension": ".py",
   "mimetype": "text/x-python",
   "name": "python",
   "nbconvert_exporter": "python",
   "pygments_lexer": "ipython3",
   "version": "3.12.7"
  }
 },
 "nbformat": 4,
 "nbformat_minor": 2
}
